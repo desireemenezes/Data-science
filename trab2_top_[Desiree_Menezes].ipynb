{
  "nbformat": 4,
  "nbformat_minor": 0,
  "metadata": {
    "colab": {
      "name": " trab2_top_[Desiree_Menezes].ipynb",
      "provenance": [],
      "authorship_tag": "ABX9TyNPFTHX50mGrO+JJcoGrWEp",
      "include_colab_link": true
    },
    "kernelspec": {
      "name": "python3",
      "display_name": "Python 3"
    },
    "language_info": {
      "name": "python"
    }
  },
  "cells": [
    {
      "cell_type": "markdown",
      "metadata": {
        "id": "view-in-github",
        "colab_type": "text"
      },
      "source": [
        "<a href=\"https://colab.research.google.com/github/desireemenezes/Data-science/blob/master/trab2_top_%5BDesiree_Menezes%5D.ipynb\" target=\"_parent\"><img src=\"https://colab.research.google.com/assets/colab-badge.svg\" alt=\"Open In Colab\"/></a>"
      ]
    },
    {
      "cell_type": "code",
      "metadata": {
        "id": "JAClW9-VSn3X"
      },
      "source": [
        "Trabalho 2\n",
        "-> Montar 20 comandos para exploração da base de dados, buscando extrair informações significativas sobre os dados. Cada comando deve conter uma linha de comentário descrevendo sua função.\n",
        "-> Criar 4 exemplos de gráficos sobre a base de dados em análise.\n",
        "-> Aplicar uma das técnicas de Machine Learning sobre os dados\n",
        "-> Documento Brazilian houses to rent (\"https://docs.google.com/spreadsheets/d/e/2PACX-1vTegNPCLmoc3vir76ocP6qqtNTRrF59rWUD8V7jFXcgjDT_QRsn3XHO4sjwnm5rrIFyAbaxpoLPtMDx/pub?output=csv\")\n",
        "-> Fonte (https://www.kaggle.com/rubenssjr/brasilian-houses-to-rent?select=houses_to_rent_v2.csv)"
      ],
      "execution_count": null,
      "outputs": []
    },
    {
      "cell_type": "markdown",
      "metadata": {
        "id": "mFMRRLsRSrSL"
      },
      "source": [
        "#Exercícios\n"
      ]
    },
    {
      "cell_type": "code",
      "metadata": {
        "id": "28BmIZ4zS4Dd"
      },
      "source": [
        "import pandas as pd\n",
        "dados = pd.read_csv('https://docs.google.com/spreadsheets/d/e/2PACX-1vTegNPCLmoc3vir76ocP6qqtNTRrF59rWUD8V7jFXcgjDT_QRsn3XHO4sjwnm5rrIFyAbaxpoLPtMDx/pub?output=csv')\n",
        "dados.head(10)"
      ],
      "execution_count": null,
      "outputs": []
    },
    {
      "cell_type": "code",
      "metadata": {
        "id": "1KfZiIJQTNJl"
      },
      "source": [
        "# 1 - apartamentos mais caro de cada cidade\n",
        "dados[['city', 'total (R$)']].groupby('city').max().sort_values('total (R$)', ascending=False)"
      ],
      "execution_count": null,
      "outputs": []
    },
    {
      "cell_type": "code",
      "metadata": {
        "id": "u6sRmplKTahy"
      },
      "source": [
        "# 2 - apartamentos mais baratos de cada cidade\n",
        "dados[['city', 'total (R$)']].groupby('city').min().sort_values('total (R$)')"
      ],
      "execution_count": null,
      "outputs": []
    },
    {
      "cell_type": "code",
      "metadata": {
        "id": "mi385UQFThy6"
      },
      "source": [
        "# 3 - apartamentos mais baratos de cada cidade que aceitem animal\n",
        "dados[['city', 'total (R$)']].loc[dados['animal'] =='acept'].groupby('city').min().sort_values('total (R$)')"
      ],
      "execution_count": null,
      "outputs": []
    },
    {
      "cell_type": "code",
      "metadata": {
        "id": "HwqQ6ACYTkpp"
      },
      "source": [
        "# 4- verifica a correlação entre o valor e area , quanto mais perto de 1 melhor\n",
        "dados[['total (R$)','area']].corr()"
      ],
      "execution_count": null,
      "outputs": []
    },
    {
      "cell_type": "code",
      "metadata": {
        "id": "K8UhJJVeTqxJ"
      },
      "source": [
        "#5 - top 10 apartamentos mobiliados mais baratos de porto alegre\n",
        "dados.loc[(dados['city']=='Porto Alegre') & (dados['furniture']=='furnished')].sort_values('total (R$)').head(10)"
      ],
      "execution_count": null,
      "outputs": []
    },
    {
      "cell_type": "code",
      "metadata": {
        "id": "SrzkhWHTT1T0"
      },
      "source": [
        "#6 - apartamentos na cobertura mobiliados mais baratos de porto alegre \n",
        "dados.loc[(dados['city']=='Porto Alegre') & (dados['furniture']=='furnished') & (dados['floor'] == dados['floor'].max())].sort_values('total (R$)')"
      ],
      "execution_count": null,
      "outputs": []
    },
    {
      "cell_type": "code",
      "metadata": {
        "id": "7bzGugVcT5cY"
      },
      "source": [
        "# 7 - Adiciona coluna com valor total das taxas\n",
        "dados['total tax'] =  dados['total (R$)'] - dados['rent amount (R$)']"
      ],
      "execution_count": 13,
      "outputs": []
    },
    {
      "cell_type": "code",
      "metadata": {
        "id": "JIYqBY8sU_1O"
      },
      "source": [
        "#8 - top 10 apartamentos mobiliados com menor taxa e  mais baratos de porto alegre \n",
        "dados.loc[(dados['city']=='Porto Alegre') & (dados['furniture']=='furnished') ].sort_values(['total tax','total (R$)']).head(10)"
      ],
      "execution_count": null,
      "outputs": []
    },
    {
      "cell_type": "code",
      "metadata": {
        "id": "6pOjuV6hVDqW"
      },
      "source": [
        "#9 - Média de valor de alugueis por cidade\n",
        "dados[['city','total (R$)']].groupby('city').mean()"
      ],
      "execution_count": null,
      "outputs": []
    },
    {
      "cell_type": "code",
      "metadata": {
        "id": "vUfM1U8KVMc8"
      },
      "source": [
        "#10 - Algueis mais barato em porto alegre que tenha area maior que 100m2 , com ao menos 2 quartos\n",
        "dados.loc[(dados['city']=='Porto Alegre')&(dados['area'] >100)&( dados['rooms']>=2)].sort_values('total (R$)')"
      ],
      "execution_count": null,
      "outputs": []
    },
    {
      "cell_type": "code",
      "metadata": {
        "id": "Xo0GD_7pVUST"
      },
      "source": [
        "# 11 -Fazer o cruzamento das colunas cidade\n",
        "pd.crosstab(dados['city'], dados['total (R$)'])"
      ],
      "execution_count": null,
      "outputs": []
    },
    {
      "cell_type": "code",
      "metadata": {
        "id": "BpViT6SYVWz2"
      },
      "source": [
        "# 12 -Faz a correlação de area por valor em porto alegre\n",
        "dados2 = dados.loc[dados['city'] == 'Porto Alegre']\n",
        "dados2[['area','total (R$)']].corr()"
      ],
      "execution_count": null,
      "outputs": []
    },
    {
      "cell_type": "code",
      "metadata": {
        "id": "IheYDrd_Vc-R"
      },
      "source": [
        "# 13 -Faz a correlação de vagas de estacionamento por valor em porto alegre\n",
        "dados2 = dados.loc[dados['city'] == 'Porto Alegre']\n",
        "dados2[['parking spaces','total (R$)']].corr()"
      ],
      "execution_count": null,
      "outputs": []
    },
    {
      "cell_type": "code",
      "metadata": {
        "id": "J_VtxHEyVfYQ"
      },
      "source": [
        "# 14 - Apartamentos sem vaga de estacionamento\n",
        "dados.loc[dados['parking spaces']==0]"
      ],
      "execution_count": null,
      "outputs": []
    },
    {
      "cell_type": "code",
      "metadata": {
        "id": "D-46nC2BVhbp"
      },
      "source": [
        "# 15 - Apartamentos mais baratos em porto Alegre com 4 ou mais quartos e 2 ou mais banheiros que aceite animais\n",
        "dados.loc[(dados['city']=='Porto Alegre')&(dados['rooms'] >=4)&( dados['bathroom']>=2)& (dados['animal']=='acept' )].sort_values('total (R$)').head(20)"
      ],
      "execution_count": null,
      "outputs": []
    },
    {
      "cell_type": "code",
      "metadata": {
        "id": "FmcxNDp0VjsY"
      },
      "source": [
        "#16 - convert aceita não aceita animal e não mobilado em numerico \n",
        "dados4 = pd.get_dummies(dados[['animal','furniture']],drop_first=True)\n",
        "dados4"
      ],
      "execution_count": null,
      "outputs": []
    },
    {
      "cell_type": "code",
      "metadata": {
        "id": "zTOoPLE1VmG9"
      },
      "source": [
        "# 17-  imprime o numero de de apartamentos que não aceitam animais\n",
        "x = int(dados4[['animal_not acept']].sum())\n",
        "y =  dados4['animal_not acept'].count()\n",
        "print( x , \"apartamentos não aceitam anial, de\" , y)"
      ],
      "execution_count": null,
      "outputs": []
    },
    {
      "cell_type": "code",
      "metadata": {
        "id": "8V59piqIVo97"
      },
      "source": [
        "# 18 - informa os dados da tabela\n",
        "dados.info()"
      ],
      "execution_count": null,
      "outputs": []
    },
    {
      "cell_type": "code",
      "metadata": {
        "id": "_DtOVzCXWIc0"
      },
      "source": [
        "# 19 número de imoveis sem o andar informado \n",
        "x = int(dados[['floor']].loc[dados['floor'] =='-'].count())\n",
        "\n",
        "print('são ', x , ' apartamentos sem o andar informado')"
      ],
      "execution_count": null,
      "outputs": []
    },
    {
      "cell_type": "code",
      "metadata": {
        "id": "9plftnOtWMo2"
      },
      "source": [
        " #20 - poor_price\n",
        "def createPoorPrice(price):\n",
        "  if price > 2000:\n",
        "    return \"Rich\"\n",
        "  else:\n",
        "    return \"Poor\"\n",
        "\n",
        "dados['poor_price'] = dados.apply(lambda x: createPoorPrice(x['total (R$)']), axis=1)\n",
        "dados.head()"
      ],
      "execution_count": null,
      "outputs": []
    },
    {
      "cell_type": "markdown",
      "metadata": {
        "id": "0qA4FMwUWUSA"
      },
      "source": [
        "#Gráficos"
      ]
    },
    {
      "cell_type": "code",
      "metadata": {
        "id": "s2eZ30XpWXOJ"
      },
      "source": [
        "# 1 - mostra as o grafico das taxas\n",
        "df = pd.DataFrame({'tax': [float(dados['hoa (R$)'].sum()),float(dados['property tax (R$)'].sum()) , float(dados['fire insurance (R$)'].sum())]},index=['hoa', 'property', 'fire '])\n",
        "plot = df.plot.pie(y='tax', figsize=(5, 5));"
      ],
      "execution_count": null,
      "outputs": []
    },
    {
      "cell_type": "code",
      "metadata": {
        "id": "lX6XyMW4WfYj"
      },
      "source": [
        "# 2 - grafico com maiores e menores preços\n",
        "\n",
        "citys = dados['city'].unique()\n",
        "maxSP = dados['total (R$)'].loc[dados['city'] == 'São Paulo'].max()\n",
        "minSP = dados['total (R$)'].loc[dados['city'] == 'São Paulo'].min()\n",
        "maxPA = dados['total (R$)'].loc[dados['city'] == 'Porto Alegre'].max()\n",
        "minPA = dados['total (R$)'].loc[dados['city'] == 'Porto Alegre'].min()\n",
        "maxRJ = dados['total (R$)'].loc[dados['city'] == 'Rio de Janeiro'].max()\n",
        "minRJ = dados['total (R$)'].loc[dados['city'] == 'Rio de Janeiro'].min()\n",
        "maxCa = dados['total (R$)'].loc[dados['city'] == 'Campinas'].max()\n",
        "minCa = dados['total (R$)'].loc[dados['city'] == 'Campinas'].min()\n",
        "maxBH = dados['total (R$)'].loc[dados['city'] == 'Belo Horizonte'].max()\n",
        "minBH = dados['total (R$)'].loc[dados['city'] == 'Belo Horizonte'].min()\n",
        "max = [maxSP, maxPA, maxRJ, maxCa, maxBH]\n",
        "min = [minSP, minPA, minRJ, minCa, minBH]\n",
        "\n",
        "df = pd.DataFrame({'max': max,\n",
        "                   'min': min}, \n",
        "\t\t\t              index=citys)\n",
        "\n",
        "lines = df.plot.line()"
      ],
      "execution_count": null,
      "outputs": []
    },
    {
      "cell_type": "code",
      "metadata": {
        "id": "K-gb4E9jWlO8"
      },
      "source": [
        "# 3 - grafico de apartamentos que aceitam animal \n",
        "\n",
        "import seaborn as sns\n",
        "sns.displot(dados.dropna(), x=\"animal\");"
      ],
      "execution_count": null,
      "outputs": []
    },
    {
      "cell_type": "code",
      "metadata": {
        "id": "pD6Pdft6WnKd"
      },
      "source": [
        "# 4 - grafico de area por valor dos apartamentos em porto alegre\n",
        "dados6 = dados.loc[dados['city']=='Porto Alegre']\n",
        "sns.relplot(x='area', y='total (R$)', hue='furniture', data=dados6);"
      ],
      "execution_count": null,
      "outputs": []
    },
    {
      "cell_type": "code",
      "metadata": {
        "id": "1e8v38uOWsVP"
      },
      "source": [
        "# 5 - equivalente de aparetamentos mobiliados por quartos\n",
        "sns.boxplot(x='furniture',y='rooms',data=dados);"
      ],
      "execution_count": null,
      "outputs": []
    },
    {
      "cell_type": "markdown",
      "metadata": {
        "id": "vvX7P02HXpUj"
      },
      "source": [
        "#Machine Learning"
      ]
    },
    {
      "cell_type": "code",
      "metadata": {
        "id": "NIekfhzQXqph"
      },
      "source": [
        "dados[['area','total (R$)']].loc[dados['city'] == 'Porto Alegre'].corr()"
      ],
      "execution_count": null,
      "outputs": []
    },
    {
      "cell_type": "code",
      "metadata": {
        "id": "j-8Jt5yCX7x9"
      },
      "source": [
        "from matplotlib import pyplot as plt\n",
        "from sklearn.linear_model import LinearRegression\n",
        "\n",
        "X = dados[['area']].loc[dados['city'] == 'Porto Alegre']\n",
        "y = dados[['total (R$)']].loc[dados['city'] == 'Porto Alegre']\n",
        "reg = LinearRegression()\n",
        "reg.fit(X, y);\n",
        "\n",
        "plt.title('Relação area X valor total do aluguel')\n",
        "plt.xlabel('area')\n",
        "plt.ylabel('valor')\n",
        "plt.scatter(X,y);\n",
        "plt.plot(X, reg.predict(X), color='red');"
      ],
      "execution_count": null,
      "outputs": []
    },
    {
      "cell_type": "code",
      "metadata": {
        "id": "fMfP99PqYDHN"
      },
      "source": [
        "area = input('informe uma area para saber o valor aprocimado ')\n",
        "\n",
        "aux = reg.predict([[int(area)]])\n",
        "aux1 = aux[0]\n",
        "Previsao = aux1[0]\n",
        "print(\"A previsão de valor para {ar}m² é de : R$ {pr:.2f}\".format(pr=Previsao,ar=area))\n"
      ],
      "execution_count": null,
      "outputs": []
    }
  ]
}